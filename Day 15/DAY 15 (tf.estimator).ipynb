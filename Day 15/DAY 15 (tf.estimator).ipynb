{
 "cells": [
  {
   "cell_type": "markdown",
   "metadata": {},
   "source": [
    "## For more details on estimators visit: https://www.tensorflow.org/guide/estimator   Similar to a tf.keras.Model, an estimator is a model-level abstraction. The tf.estimator provides some capabilities currently still under development for tf.keras. These are:\n",
    "\n",
    "## Parameter server based training\n",
    "## Full TFX integration."
   ]
  },
  {
   "cell_type": "code",
   "execution_count": 1,
   "metadata": {},
   "outputs": [],
   "source": [
    "import numpy as np # linear algebra\n",
    "import pandas as pd # data processing, CSV file I/O (e.g. pd.read_csv)\n",
    "import matplotlib.pyplot as plt\n",
    "import seaborn as sns"
   ]
  },
  {
   "cell_type": "code",
   "execution_count": 3,
   "metadata": {},
   "outputs": [],
   "source": [
    "df = pd.read_csv(r'datasets_19_420_Iris.csv')"
    ]
  },
  {
   "cell_type": "code",
   "execution_count": 4,
   "metadata": {},
   "outputs": [
    {
     "data": {
      "text/html": [
       "<div>\n",
       "<style scoped>\n",
       "    .dataframe tbody tr th:only-of-type {\n",
       "        vertical-align: middle;\n",
       "    }\n",
       "\n",
       "    .dataframe tbody tr th {\n",
       "        vertical-align: top;\n",
       "    }\n",
       "\n",
       "    .dataframe thead th {\n",
       "        text-align: right;\n",
       "    }\n",
       "</style>\n",
       "<table border=\"1\" class=\"dataframe\">\n",
       "  <thead>\n",
       "    <tr style=\"text-align: right;\">\n",
       "      <th></th>\n",
       "      <th>Id</th>\n",
       "      <th>SepalLengthCm</th>\n",
       "      <th>SepalWidthCm</th>\n",
       "      <th>PetalLengthCm</th>\n",
       "      <th>PetalWidthCm</th>\n",
       "      <th>Species</th>\n",
       "    </tr>\n",
       "  </thead>\n",
       "  <tbody>\n",
       "    <tr>\n",
       "      <th>0</th>\n",
       "      <td>1</td>\n",
       "      <td>5.1</td>\n",
       "      <td>3.5</td>\n",
       "      <td>1.4</td>\n",
       "      <td>0.2</td>\n",
       "      <td>Iris-setosa</td>\n",
       "    </tr>\n",
       "    <tr>\n",
       "      <th>1</th>\n",
       "      <td>2</td>\n",
       "      <td>4.9</td>\n",
       "      <td>3.0</td>\n",
       "      <td>1.4</td>\n",
       "      <td>0.2</td>\n",
       "      <td>Iris-setosa</td>\n",
       "    </tr>\n",
       "    <tr>\n",
       "      <th>2</th>\n",
       "      <td>3</td>\n",
       "      <td>4.7</td>\n",
       "      <td>3.2</td>\n",
       "      <td>1.3</td>\n",
       "      <td>0.2</td>\n",
       "      <td>Iris-setosa</td>\n",
       "    </tr>\n",
       "    <tr>\n",
       "      <th>3</th>\n",
       "      <td>4</td>\n",
       "      <td>4.6</td>\n",
       "      <td>3.1</td>\n",
       "      <td>1.5</td>\n",
       "      <td>0.2</td>\n",
       "      <td>Iris-setosa</td>\n",
       "    </tr>\n",
       "    <tr>\n",
       "      <th>4</th>\n",
       "      <td>5</td>\n",
       "      <td>5.0</td>\n",
       "      <td>3.6</td>\n",
       "      <td>1.4</td>\n",
       "      <td>0.2</td>\n",
       "      <td>Iris-setosa</td>\n",
       "    </tr>\n",
       "  </tbody>\n",
       "</table>\n",
       "</div>"
      ],
      "text/plain": [
       "   Id  SepalLengthCm  SepalWidthCm  PetalLengthCm  PetalWidthCm      Species\n",
       "0   1            5.1           3.5            1.4           0.2  Iris-setosa\n",
       "1   2            4.9           3.0            1.4           0.2  Iris-setosa\n",
       "2   3            4.7           3.2            1.3           0.2  Iris-setosa\n",
       "3   4            4.6           3.1            1.5           0.2  Iris-setosa\n",
       "4   5            5.0           3.6            1.4           0.2  Iris-setosa"
      ]
     },
     "execution_count": 4,
     "metadata": {},
     "output_type": "execute_result"
    }
   ],
   "source": [
    "df.head()"
   ]
  },
  {
   "cell_type": "code",
   "execution_count": 5,
   "metadata": {},
   "outputs": [],
   "source": [
    "df.drop('Id', inplace=True, axis=1)"
   ]
  },
  {
   "cell_type": "code",
   "execution_count": 6,
   "metadata": {},
   "outputs": [
    {
     "data": {
      "text/plain": [
       "3"
      ]
     },
     "execution_count": 6,
     "metadata": {},
     "output_type": "execute_result"
    }
   ],
   "source": [
    "df.Species.nunique()"
   ]
  },
  {
   "cell_type": "code",
   "execution_count": 7,
   "metadata": {},
   "outputs": [],
   "source": [
    "from sklearn.preprocessing import LabelEncoder\n",
    "le = LabelEncoder()\n",
    "df.Species = le.fit_transform(df.Species)"
   ]
  },
  {
   "cell_type": "code",
   "execution_count": 13,
   "metadata": {},
   "outputs": [
    {
     "data": {
      "text/html": [
       "<div>\n",
       "<style scoped>\n",
       "    .dataframe tbody tr th:only-of-type {\n",
       "        vertical-align: middle;\n",
       "    }\n",
       "\n",
       "    .dataframe tbody tr th {\n",
       "        vertical-align: top;\n",
       "    }\n",
       "\n",
       "    .dataframe thead th {\n",
       "        text-align: right;\n",
       "    }\n",
       "</style>\n",
       "<table border=\"1\" class=\"dataframe\">\n",
       "  <thead>\n",
       "    <tr style=\"text-align: right;\">\n",
       "      <th></th>\n",
       "      <th>SepalLengthCm</th>\n",
       "      <th>SepalWidthCm</th>\n",
       "      <th>PetalLengthCm</th>\n",
       "      <th>PetalWidthCm</th>\n",
       "      <th>Species</th>\n",
       "    </tr>\n",
       "  </thead>\n",
       "  <tbody>\n",
       "    <tr>\n",
       "      <th>0</th>\n",
       "      <td>5.1</td>\n",
       "      <td>3.5</td>\n",
       "      <td>1.4</td>\n",
       "      <td>0.2</td>\n",
       "      <td>0</td>\n",
       "    </tr>\n",
       "    <tr>\n",
       "      <th>1</th>\n",
       "      <td>4.9</td>\n",
       "      <td>3.0</td>\n",
       "      <td>1.4</td>\n",
       "      <td>0.2</td>\n",
       "      <td>0</td>\n",
       "    </tr>\n",
       "    <tr>\n",
       "      <th>2</th>\n",
       "      <td>4.7</td>\n",
       "      <td>3.2</td>\n",
       "      <td>1.3</td>\n",
       "      <td>0.2</td>\n",
       "      <td>0</td>\n",
       "    </tr>\n",
       "    <tr>\n",
       "      <th>3</th>\n",
       "      <td>4.6</td>\n",
       "      <td>3.1</td>\n",
       "      <td>1.5</td>\n",
       "      <td>0.2</td>\n",
       "      <td>0</td>\n",
       "    </tr>\n",
       "    <tr>\n",
       "      <th>4</th>\n",
       "      <td>5.0</td>\n",
       "      <td>3.6</td>\n",
       "      <td>1.4</td>\n",
       "      <td>0.2</td>\n",
       "      <td>0</td>\n",
       "    </tr>\n",
       "    <tr>\n",
       "      <th>...</th>\n",
       "      <td>...</td>\n",
       "      <td>...</td>\n",
       "      <td>...</td>\n",
       "      <td>...</td>\n",
       "      <td>...</td>\n",
       "    </tr>\n",
       "    <tr>\n",
       "      <th>95</th>\n",
       "      <td>5.7</td>\n",
       "      <td>3.0</td>\n",
       "      <td>4.2</td>\n",
       "      <td>1.2</td>\n",
       "      <td>1</td>\n",
       "    </tr>\n",
       "    <tr>\n",
       "      <th>96</th>\n",
       "      <td>5.7</td>\n",
       "      <td>2.9</td>\n",
       "      <td>4.2</td>\n",
       "      <td>1.3</td>\n",
       "      <td>1</td>\n",
       "    </tr>\n",
       "    <tr>\n",
       "      <th>97</th>\n",
       "      <td>6.2</td>\n",
       "      <td>2.9</td>\n",
       "      <td>4.3</td>\n",
       "      <td>1.3</td>\n",
       "      <td>1</td>\n",
       "    </tr>\n",
       "    <tr>\n",
       "      <th>98</th>\n",
       "      <td>5.1</td>\n",
       "      <td>2.5</td>\n",
       "      <td>3.0</td>\n",
       "      <td>1.1</td>\n",
       "      <td>1</td>\n",
       "    </tr>\n",
       "    <tr>\n",
       "      <th>99</th>\n",
       "      <td>5.7</td>\n",
       "      <td>2.8</td>\n",
       "      <td>4.1</td>\n",
       "      <td>1.3</td>\n",
       "      <td>1</td>\n",
       "    </tr>\n",
       "  </tbody>\n",
       "</table>\n",
       "<p>100 rows × 5 columns</p>\n",
       "</div>"
      ],
      "text/plain": [
       "    SepalLengthCm  SepalWidthCm  PetalLengthCm  PetalWidthCm  Species\n",
       "0             5.1           3.5            1.4           0.2        0\n",
       "1             4.9           3.0            1.4           0.2        0\n",
       "2             4.7           3.2            1.3           0.2        0\n",
       "3             4.6           3.1            1.5           0.2        0\n",
       "4             5.0           3.6            1.4           0.2        0\n",
       "..            ...           ...            ...           ...      ...\n",
       "95            5.7           3.0            4.2           1.2        1\n",
       "96            5.7           2.9            4.2           1.3        1\n",
       "97            6.2           2.9            4.3           1.3        1\n",
       "98            5.1           2.5            3.0           1.1        1\n",
       "99            5.7           2.8            4.1           1.3        1\n",
       "\n",
       "[100 rows x 5 columns]"
      ]
     },
     "execution_count": 13,
     "metadata": {},
     "output_type": "execute_result"
    }
   ],
   "source": [
    "df.head(100)"
   ]
  },
  {
   "cell_type": "code",
   "execution_count": 11,
   "metadata": {},
   "outputs": [
    {
     "data": {
      "text/plain": [
       "(150, 5)"
      ]
     },
     "execution_count": 11,
     "metadata": {},
     "output_type": "execute_result"
    }
   ],
   "source": [
    "df.shape"
   ]
  },
  {
   "cell_type": "code",
   "execution_count": 14,
   "metadata": {},
   "outputs": [
    {
     "data": {
      "text/plain": [
       "<matplotlib.axes._subplots.AxesSubplot at 0x20fbf797780>"
      ]
     },
     "execution_count": 14,
     "metadata": {},
     "output_type": "execute_result"
    },
    {
     "data": {
      "image/png": "[encoded data removed]",
      "text/plain": [
       "<Figure size 432x288 with 2 Axes>"
      ]
     },
     "metadata": {
      "needs_background": "light"
     },
     "output_type": "display_data"
    }
   ],
   "source": [
    "sns.heatmap(df.corr(),cbar=True,fmt =' .2f', annot=True, cmap='coolwarm')"
   ]
  },
  {
   "cell_type": "code",
   "execution_count": 15,
   "metadata": {},
   "outputs": [],
   "source": [
    "y = df.Species"
   ]
  },
  {
   "cell_type": "code",
   "execution_count": 16,
   "metadata": {},
   "outputs": [],
   "source": [
    "df.drop('Species', inplace=True, axis=1)"
   ]
  },
  {
   "cell_type": "code",
   "execution_count": 17,
   "metadata": {},
   "outputs": [
    {
     "data": {
      "text/html": [
       "<div>\n",
       "<style scoped>\n",
       "    .dataframe tbody tr th:only-of-type {\n",
       "        vertical-align: middle;\n",
       "    }\n",
       "\n",
       "    .dataframe tbody tr th {\n",
       "        vertical-align: top;\n",
       "    }\n",
       "\n",
       "    .dataframe thead th {\n",
       "        text-align: right;\n",
       "    }\n",
       "</style>\n",
       "<table border=\"1\" class=\"dataframe\">\n",
       "  <thead>\n",
       "    <tr style=\"text-align: right;\">\n",
       "      <th></th>\n",
       "      <th>SepalLengthCm</th>\n",
       "      <th>SepalWidthCm</th>\n",
       "      <th>PetalLengthCm</th>\n",
       "      <th>PetalWidthCm</th>\n",
       "    </tr>\n",
       "  </thead>\n",
       "  <tbody>\n",
       "    <tr>\n",
       "      <th>0</th>\n",
       "      <td>5.1</td>\n",
       "      <td>3.5</td>\n",
       "      <td>1.4</td>\n",
       "      <td>0.2</td>\n",
       "    </tr>\n",
       "    <tr>\n",
       "      <th>1</th>\n",
       "      <td>4.9</td>\n",
       "      <td>3.0</td>\n",
       "      <td>1.4</td>\n",
       "      <td>0.2</td>\n",
       "    </tr>\n",
       "    <tr>\n",
       "      <th>2</th>\n",
       "      <td>4.7</td>\n",
       "      <td>3.2</td>\n",
       "      <td>1.3</td>\n",
       "      <td>0.2</td>\n",
       "    </tr>\n",
       "    <tr>\n",
       "      <th>3</th>\n",
       "      <td>4.6</td>\n",
       "      <td>3.1</td>\n",
       "      <td>1.5</td>\n",
       "      <td>0.2</td>\n",
       "    </tr>\n",
       "    <tr>\n",
       "      <th>4</th>\n",
       "      <td>5.0</td>\n",
       "      <td>3.6</td>\n",
       "      <td>1.4</td>\n",
       "      <td>0.2</td>\n",
       "    </tr>\n",
       "  </tbody>\n",
       "</table>\n",
       "</div>"
      ],
      "text/plain": [
       "   SepalLengthCm  SepalWidthCm  PetalLengthCm  PetalWidthCm\n",
       "0            5.1           3.5            1.4           0.2\n",
       "1            4.9           3.0            1.4           0.2\n",
       "2            4.7           3.2            1.3           0.2\n",
       "3            4.6           3.1            1.5           0.2\n",
       "4            5.0           3.6            1.4           0.2"
      ]
     },
     "execution_count": 17,
     "metadata": {},
     "output_type": "execute_result"
    }
   ],
   "source": [
    "df.head(5)"
   ]
  },
  {
   "cell_type": "code",
   "execution_count": 18,
   "metadata": {},
   "outputs": [],
   "source": [
    "from sklearn.preprocessing import StandardScaler\n",
    "sc = StandardScaler()"
   ]
  },
  {
   "cell_type": "code",
   "execution_count": 19,
   "metadata": {},
   "outputs": [],
   "source": [
    "X = pd.DataFrame(sc.fit_transform(df), columns=df.columns, index= df.index)"
   ]
  },
  {
   "cell_type": "code",
   "execution_count": 20,
   "metadata": {},
   "outputs": [
    {
     "data": {
      "text/html": [
       "<div>\n",
       "<style scoped>\n",
       "    .dataframe tbody tr th:only-of-type {\n",
       "        vertical-align: middle;\n",
       "    }\n",
       "\n",
       "    .dataframe tbody tr th {\n",
       "        vertical-align: top;\n",
       "    }\n",
       "\n",
       "    .dataframe thead th {\n",
       "        text-align: right;\n",
       "    }\n",
       "</style>\n",
       "<table border=\"1\" class=\"dataframe\">\n",
       "  <thead>\n",
       "    <tr style=\"text-align: right;\">\n",
       "      <th></th>\n",
       "      <th>SepalLengthCm</th>\n",
       "      <th>SepalWidthCm</th>\n",
       "      <th>PetalLengthCm</th>\n",
       "      <th>PetalWidthCm</th>\n",
       "    </tr>\n",
       "  </thead>\n",
       "  <tbody>\n",
       "    <tr>\n",
       "      <th>0</th>\n",
       "      <td>-0.900681</td>\n",
       "      <td>1.032057</td>\n",
       "      <td>-1.341272</td>\n",
       "      <td>-1.312977</td>\n",
       "    </tr>\n",
       "    <tr>\n",
       "      <th>1</th>\n",
       "      <td>-1.143017</td>\n",
       "      <td>-0.124958</td>\n",
       "      <td>-1.341272</td>\n",
       "      <td>-1.312977</td>\n",
       "    </tr>\n",
       "    <tr>\n",
       "      <th>2</th>\n",
       "      <td>-1.385353</td>\n",
       "      <td>0.337848</td>\n",
       "      <td>-1.398138</td>\n",
       "      <td>-1.312977</td>\n",
       "    </tr>\n",
       "    <tr>\n",
       "      <th>3</th>\n",
       "      <td>-1.506521</td>\n",
       "      <td>0.106445</td>\n",
       "      <td>-1.284407</td>\n",
       "      <td>-1.312977</td>\n",
       "    </tr>\n",
       "    <tr>\n",
       "      <th>4</th>\n",
       "      <td>-1.021849</td>\n",
       "      <td>1.263460</td>\n",
       "      <td>-1.341272</td>\n",
       "      <td>-1.312977</td>\n",
       "    </tr>\n",
       "  </tbody>\n",
       "</table>\n",
       "</div>"
      ],
      "text/plain": [
       "   SepalLengthCm  SepalWidthCm  PetalLengthCm  PetalWidthCm\n",
       "0      -0.900681      1.032057      -1.341272     -1.312977\n",
       "1      -1.143017     -0.124958      -1.341272     -1.312977\n",
       "2      -1.385353      0.337848      -1.398138     -1.312977\n",
       "3      -1.506521      0.106445      -1.284407     -1.312977\n",
       "4      -1.021849      1.263460      -1.341272     -1.312977"
      ]
     },
     "execution_count": 20,
     "metadata": {},
     "output_type": "execute_result"
    }
   ],
   "source": [
    "X.head(5)"
   ]
  },
  {
   "cell_type": "code",
   "execution_count": 21,
   "metadata": {},
   "outputs": [
    {
     "data": {
      "text/plain": [
       "0    0\n",
       "1    0\n",
       "2    0\n",
       "3    0\n",
       "4    0\n",
       "Name: Species, dtype: int32"
      ]
     },
     "execution_count": 21,
     "metadata": {},
     "output_type": "execute_result"
    }
   ],
   "source": [
    "y.head(5)"
   ]
  },
  {
   "cell_type": "code",
   "execution_count": 22,
   "metadata": {},
   "outputs": [],
   "source": [
    "from sklearn.model_selection import train_test_split"
   ]
  },
  {
   "cell_type": "code",
   "execution_count": 23,
   "metadata": {},
   "outputs": [],
   "source": [
    "X_train, X_test, y_train, y_test = train_test_split(X, y, test_size=0.30, random_state=101)"
   ]
  },
  {
   "cell_type": "code",
   "execution_count": 24,
   "metadata": {},
   "outputs": [
    {
     "name": "stderr",
     "output_type": "stream",
     "text": [
      "c:\\python\\python37\\lib\\site-packages\\tensorflow\\python\\framework\\dtypes.py:516: FutureWarning: Passing (type, 1) or '1type' as a synonym of type is deprecated; in a future version of numpy, it will be understood as (type, (1,)) / '(1,)type'.\n",
      "  _np_qint8 = np.dtype([(\"qint8\", np.int8, 1)])\n",
      "c:\\python\\python37\\lib\\site-packages\\tensorflow\\python\\framework\\dtypes.py:517: FutureWarning: Passing (type, 1) or '1type' as a synonym of type is deprecated; in a future version of numpy, it will be understood as (type, (1,)) / '(1,)type'.\n",
      "  _np_quint8 = np.dtype([(\"quint8\", np.uint8, 1)])\n",
      "c:\\python\\python37\\lib\\site-packages\\tensorflow\\python\\framework\\dtypes.py:518: FutureWarning: Passing (type, 1) or '1type' as a synonym of type is deprecated; in a future version of numpy, it will be understood as (type, (1,)) / '(1,)type'.\n",
      "  _np_qint16 = np.dtype([(\"qint16\", np.int16, 1)])\n",
      "c:\\python\\python37\\lib\\site-packages\\tensorflow\\python\\framework\\dtypes.py:519: FutureWarning: Passing (type, 1) or '1type' as a synonym of type is deprecated; in a future version of numpy, it will be understood as (type, (1,)) / '(1,)type'.\n",
      "  _np_quint16 = np.dtype([(\"quint16\", np.uint16, 1)])\n",
      "c:\\python\\python37\\lib\\site-packages\\tensorflow\\python\\framework\\dtypes.py:520: FutureWarning: Passing (type, 1) or '1type' as a synonym of type is deprecated; in a future version of numpy, it will be understood as (type, (1,)) / '(1,)type'.\n",
      "  _np_qint32 = np.dtype([(\"qint32\", np.int32, 1)])\n",
      "c:\\python\\python37\\lib\\site-packages\\tensorflow\\python\\framework\\dtypes.py:525: FutureWarning: Passing (type, 1) or '1type' as a synonym of type is deprecated; in a future version of numpy, it will be understood as (type, (1,)) / '(1,)type'.\n",
      "  np_resource = np.dtype([(\"resource\", np.ubyte, 1)])\n",
      "c:\\python\\python37\\lib\\site-packages\\tensorboard\\compat\\tensorflow_stub\\dtypes.py:541: FutureWarning: Passing (type, 1) or '1type' as a synonym of type is deprecated; in a future version of numpy, it will be understood as (type, (1,)) / '(1,)type'.\n",
      "  _np_qint8 = np.dtype([(\"qint8\", np.int8, 1)])\n",
      "c:\\python\\python37\\lib\\site-packages\\tensorboard\\compat\\tensorflow_stub\\dtypes.py:542: FutureWarning: Passing (type, 1) or '1type' as a synonym of type is deprecated; in a future version of numpy, it will be understood as (type, (1,)) / '(1,)type'.\n",
      "  _np_quint8 = np.dtype([(\"quint8\", np.uint8, 1)])\n",
      "c:\\python\\python37\\lib\\site-packages\\tensorboard\\compat\\tensorflow_stub\\dtypes.py:543: FutureWarning: Passing (type, 1) or '1type' as a synonym of type is deprecated; in a future version of numpy, it will be understood as (type, (1,)) / '(1,)type'.\n",
      "  _np_qint16 = np.dtype([(\"qint16\", np.int16, 1)])\n",
      "c:\\python\\python37\\lib\\site-packages\\tensorboard\\compat\\tensorflow_stub\\dtypes.py:544: FutureWarning: Passing (type, 1) or '1type' as a synonym of type is deprecated; in a future version of numpy, it will be understood as (type, (1,)) / '(1,)type'.\n",
      "  _np_quint16 = np.dtype([(\"quint16\", np.uint16, 1)])\n",
      "c:\\python\\python37\\lib\\site-packages\\tensorboard\\compat\\tensorflow_stub\\dtypes.py:545: FutureWarning: Passing (type, 1) or '1type' as a synonym of type is deprecated; in a future version of numpy, it will be understood as (type, (1,)) / '(1,)type'.\n",
      "  _np_qint32 = np.dtype([(\"qint32\", np.int32, 1)])\n",
      "c:\\python\\python37\\lib\\site-packages\\tensorboard\\compat\\tensorflow_stub\\dtypes.py:550: FutureWarning: Passing (type, 1) or '1type' as a synonym of type is deprecated; in a future version of numpy, it will be understood as (type, (1,)) / '(1,)type'.\n",
      "  np_resource = np.dtype([(\"resource\", np.ubyte, 1)])\n"
     ]
    }
   ],
   "source": [
    "import tensorflow as tf"
   ]
  },
  {
   "cell_type": "code",
   "execution_count": 25,
   "metadata": {},
   "outputs": [],
   "source": [
    "SepalLengthCm =tf.feature_column.numeric_column(\"SepalLengthCm\")\n",
    "SepalWidthCm =tf.feature_column.numeric_column(\"SepalWidthCm\")\n",
    "PetalLengthCm =tf.feature_column.numeric_column(\"PetalLengthCm\")\n",
    "PetalWidthCm =tf.feature_column.numeric_column(\"PetalWidthCm\")"
   ]
  },
  {
   "cell_type": "code",
   "execution_count": 26,
   "metadata": {},
   "outputs": [],
   "source": [
    "feature_columns = [SepalLengthCm, SepalWidthCm, PetalLengthCm, PetalWidthCm]"
   ]
  },
  {
   "cell_type": "code",
   "execution_count": 27,
   "metadata": {},
   "outputs": [],
   "source": [
    "cols = [\"SepalLengthCm\",\"SepalWidthCm\",\"PetalLengthCm\", \"PetalWidthCm\"]"
   ]
  },
  {
   "cell_type": "code",
   "execution_count": 28,
   "metadata": {},
   "outputs": [
    {
     "name": "stdout",
     "output_type": "stream",
     "text": [
      "INFO:tensorflow:Using default config.\n",
      "WARNING:tensorflow:Using temporary folder as model directory: C:\\Users\\DARAQS~1\\AppData\\Local\\Temp\\tmperf3726n\n",
      "INFO:tensorflow:Using config: {'_model_dir': 'C:\\\\Users\\\\DARAQS~1\\\\AppData\\\\Local\\\\Temp\\\\tmperf3726n', '_tf_random_seed': None, '_save_summary_steps': 100, '_save_checkpoints_steps': None, '_save_checkpoints_secs': 600, '_session_config': allow_soft_placement: true\n",
      "graph_options {\n",
      "  rewrite_options {\n",
      "    meta_optimizer_iterations: ONE\n",
      "  }\n",
      "}\n",
      ", '_keep_checkpoint_max': 5, '_keep_checkpoint_every_n_hours': 10000, '_log_step_count_steps': 100, '_train_distribute': None, '_device_fn': None, '_protocol': None, '_eval_distribute': None, '_experimental_distribute': None, '_experimental_max_worker_delay_secs': None, '_service': None, '_cluster_spec': <tensorflow.python.training.server_lib.ClusterSpec object at 0x0000020FC84504A8>, '_task_type': 'worker', '_task_id': 0, '_global_id_in_cluster': 0, '_master': '', '_evaluation_master': '', '_is_chief': True, '_num_ps_replicas': 0, '_num_worker_replicas': 1}\n"
     ]
    }
   ],
   "source": [
    "#n_classes: Number of label classes. Defaults to 2, namely binary classification. Must be > 1.\n",
    "clasfr = tf.estimator.LinearClassifier(feature_columns, n_classes=3)"
   ]
  },
  {
   "cell_type": "code",
   "execution_count": 29,
   "metadata": {},
   "outputs": [],
   "source": [
    "train_input_fn = tf.estimator.inputs.pandas_input_fn(X_train, y=y_train, num_epochs=5000, shuffle=True)\n"
   ]
  },
  {
   "cell_type": "code",
   "execution_count": 30,
   "metadata": {},
   "outputs": [
    {
     "name": "stdout",
     "output_type": "stream",
     "text": [
      "WARNING:tensorflow:From c:\\python\\python37\\lib\\site-packages\\tensorflow\\python\\training\\training_util.py:236: Variable.initialized_value (from tensorflow.python.ops.variables) is deprecated and will be removed in a future version.\n",
      "Instructions for updating:\n",
      "Use Variable.read_value. Variables in 2.X are initialized automatically both in eager and graph (inside tf.defun) contexts.\n",
      "WARNING:tensorflow:From c:\\python\\python37\\lib\\site-packages\\tensorflow_estimator\\python\\estimator\\inputs\\queues\\feeding_queue_runner.py:62: QueueRunner.__init__ (from tensorflow.python.training.queue_runner_impl) is deprecated and will be removed in a future version.\n",
      "Instructions for updating:\n",
      "To construct input pipelines, use the `tf.data` module.\n",
      "WARNING:tensorflow:From c:\\python\\python37\\lib\\site-packages\\tensorflow_estimator\\python\\estimator\\inputs\\queues\\feeding_functions.py:500: add_queue_runner (from tensorflow.python.training.queue_runner_impl) is deprecated and will be removed in a future version.\n",
      "Instructions for updating:\n",
      "To construct input pipelines, use the `tf.data` module.\n",
      "INFO:tensorflow:Calling model_fn.\n",
      "WARNING:tensorflow:From c:\\python\\python37\\lib\\site-packages\\tensorflow_estimator\\python\\estimator\\canned\\linear.py:308: to_float (from tensorflow.python.ops.math_ops) is deprecated and will be removed in a future version.\n",
      "Instructions for updating:\n",
      "Use `tf.cast` instead.\n",
      "INFO:tensorflow:Done calling model_fn.\n",
      "INFO:tensorflow:Create CheckpointSaverHook.\n",
      "WARNING:tensorflow:From c:\\python\\python37\\lib\\site-packages\\tensorflow\\python\\ops\\array_ops.py:1354: add_dispatch_support.<locals>.wrapper (from tensorflow.python.ops.array_ops) is deprecated and will be removed in a future version.\n",
      "Instructions for updating:\n",
      "Use tf.where in 2.0, which has the same broadcast rule as np.where\n",
      "INFO:tensorflow:Graph was finalized.\n",
      "INFO:tensorflow:Running local_init_op.\n",
      "INFO:tensorflow:Done running local_init_op.\n",
      "WARNING:tensorflow:From c:\\python\\python37\\lib\\site-packages\\tensorflow\\python\\training\\monitored_session.py:875: start_queue_runners (from tensorflow.python.training.queue_runner_impl) is deprecated and will be removed in a future version.\n",
      "Instructions for updating:\n",
      "To construct input pipelines, use the `tf.data` module.\n",
      "INFO:tensorflow:Saving checkpoints for 0 into C:\\Users\\DARAQS~1\\AppData\\Local\\Temp\\tmperf3726n\\model.ckpt.\n",
      "INFO:tensorflow:loss = 140.62234, step = 1\n",
      "INFO:tensorflow:global_step/sec: 314.643\n",
      "INFO:tensorflow:loss = 23.369822, step = 101 (0.325 sec)\n",
      "INFO:tensorflow:global_step/sec: 446.683\n",
      "INFO:tensorflow:loss = 13.800876, step = 201 (0.220 sec)\n",
      "INFO:tensorflow:global_step/sec: 458.982\n",
      "INFO:tensorflow:loss = 16.493334, step = 301 (0.220 sec)\n",
      "INFO:tensorflow:global_step/sec: 436.929\n",
      "INFO:tensorflow:loss = 15.482164, step = 401 (0.227 sec)\n",
      "INFO:tensorflow:global_step/sec: 478.743\n",
      "INFO:tensorflow:loss = 12.5877075, step = 501 (0.209 sec)\n",
      "INFO:tensorflow:global_step/sec: 422.181\n",
      "INFO:tensorflow:loss = 12.49317, step = 601 (0.237 sec)\n",
      "INFO:tensorflow:global_step/sec: 444.701\n",
      "INFO:tensorflow:loss = 10.043915, step = 701 (0.228 sec)\n",
      "INFO:tensorflow:global_step/sec: 438.848\n",
      "INFO:tensorflow:loss = 10.020391, step = 801 (0.225 sec)\n",
      "INFO:tensorflow:global_step/sec: 370.579\n",
      "INFO:tensorflow:loss = 8.2430935, step = 901 (0.268 sec)\n",
      "INFO:tensorflow:global_step/sec: 458.98\n",
      "INFO:tensorflow:loss = 8.729505, step = 1001 (0.223 sec)\n",
      "INFO:tensorflow:global_step/sec: 374.747\n",
      "INFO:tensorflow:loss = 7.0282564, step = 1101 (0.268 sec)\n",
      "INFO:tensorflow:global_step/sec: 408.394\n",
      "INFO:tensorflow:loss = 8.189011, step = 1201 (0.244 sec)\n",
      "INFO:tensorflow:global_step/sec: 400.23\n",
      "INFO:tensorflow:loss = 9.648624, step = 1301 (0.246 sec)\n",
      "INFO:tensorflow:global_step/sec: 495.334\n",
      "INFO:tensorflow:loss = 7.4708996, step = 1401 (0.204 sec)\n",
      "INFO:tensorflow:global_step/sec: 476.463\n",
      "INFO:tensorflow:loss = 6.0921936, step = 1501 (0.208 sec)\n",
      "INFO:tensorflow:global_step/sec: 510.498\n",
      "INFO:tensorflow:loss = 8.010641, step = 1601 (0.196 sec)\n",
      "INFO:tensorflow:global_step/sec: 362.522\n",
      "INFO:tensorflow:loss = 6.6623135, step = 1701 (0.276 sec)\n",
      "INFO:tensorflow:global_step/sec: 463.234\n",
      "INFO:tensorflow:loss = 8.423805, step = 1801 (0.215 sec)\n",
      "INFO:tensorflow:global_step/sec: 485.714\n",
      "INFO:tensorflow:loss = 12.645544, step = 1901 (0.207 sec)\n",
      "INFO:tensorflow:global_step/sec: 510.493\n",
      "INFO:tensorflow:loss = 9.045185, step = 2001 (0.196 sec)\n",
      "INFO:tensorflow:global_step/sec: 495.334\n",
      "INFO:tensorflow:loss = 6.466291, step = 2101 (0.202 sec)\n",
      "INFO:tensorflow:global_step/sec: 495.331\n",
      "INFO:tensorflow:loss = 7.1968293, step = 2201 (0.203 sec)\n",
      "INFO:tensorflow:global_step/sec: 510.496\n",
      "INFO:tensorflow:loss = 6.775839, step = 2301 (0.196 sec)\n",
      "INFO:tensorflow:global_step/sec: 448.688\n",
      "INFO:tensorflow:loss = 7.5713234, step = 2401 (0.223 sec)\n",
      "INFO:tensorflow:global_step/sec: 510.497\n",
      "INFO:tensorflow:loss = 13.390335, step = 2501 (0.196 sec)\n",
      "INFO:tensorflow:global_step/sec: 513.114\n",
      "INFO:tensorflow:loss = 8.638823, step = 2601 (0.195 sec)\n",
      "INFO:tensorflow:global_step/sec: 510.498\n",
      "INFO:tensorflow:loss = 11.133269, step = 2701 (0.194 sec)\n",
      "INFO:tensorflow:global_step/sec: 529.398\n",
      "INFO:tensorflow:loss = 8.190638, step = 2801 (0.189 sec)\n",
      "INFO:tensorflow:global_step/sec: 485.718\n",
      "INFO:tensorflow:loss = 5.700135, step = 2901 (0.207 sec)\n",
      "INFO:tensorflow:global_step/sec: 518.428\n",
      "INFO:tensorflow:loss = 5.0904264, step = 3001 (0.194 sec)\n",
      "INFO:tensorflow:global_step/sec: 495.335\n",
      "INFO:tensorflow:loss = 8.828421, step = 3101 (0.204 sec)\n",
      "INFO:tensorflow:global_step/sec: 505.339\n",
      "INFO:tensorflow:loss = 8.489752, step = 3201 (0.195 sec)\n",
      "INFO:tensorflow:global_step/sec: 523.857\n",
      "INFO:tensorflow:loss = 6.3898335, step = 3301 (0.190 sec)\n",
      "INFO:tensorflow:global_step/sec: 492.893\n",
      "INFO:tensorflow:loss = 8.30543, step = 3401 (0.204 sec)\n",
      "INFO:tensorflow:global_step/sec: 523.855\n",
      "INFO:tensorflow:loss = 8.594175, step = 3501 (0.191 sec)\n",
      "INFO:tensorflow:global_step/sec: 497.8\n",
      "INFO:tensorflow:loss = 5.9153557, step = 3601 (0.200 sec)\n",
      "INFO:tensorflow:global_step/sec: 521.134\n",
      "INFO:tensorflow:loss = 9.917719, step = 3701 (0.192 sec)\n",
      "INFO:tensorflow:global_step/sec: 510.493\n",
      "INFO:tensorflow:loss = 9.590939, step = 3801 (0.199 sec)\n",
      "INFO:tensorflow:global_step/sec: 502.803\n",
      "INFO:tensorflow:loss = 13.539609, step = 3901 (0.198 sec)\n",
      "INFO:tensorflow:global_step/sec: 505.339\n",
      "INFO:tensorflow:loss = 3.6509645, step = 4001 (0.198 sec)\n",
      "INFO:tensorflow:global_step/sec: 450.708\n",
      "INFO:tensorflow:loss = 8.54881, step = 4101 (0.220 sec)\n",
      "INFO:tensorflow:Saving checkpoints for 4102 into C:\\Users\\DARAQS~1\\AppData\\Local\\Temp\\tmperf3726n\\model.ckpt.\n",
      "INFO:tensorflow:Loss for final step: 5.2184973.\n"
     ]
    },
    {
     "data": {
      "text/plain": [
       "<tensorflow_estimator.python.estimator.canned.linear.LinearClassifier at 0x20fc8450198>"
      ]
     },
     "execution_count": 30,
     "metadata": {},
     "output_type": "execute_result"
    }
   ],
   "source": [
    "clasfr.train(input_fn=train_input_fn)"
   ]
  },
  {
   "cell_type": "code",
   "execution_count": 31,
   "metadata": {},
   "outputs": [],
   "source": [
    "test_input_fn = tf.estimator.inputs.pandas_input_fn(X_test, num_epochs=1, shuffle=False)"
   ]
  },
  {
   "cell_type": "code",
   "execution_count": 33,
   "metadata": {},
   "outputs": [
    {
     "name": "stdout",
     "output_type": "stream",
     "text": [
      "INFO:tensorflow:Calling model_fn.\n",
      "INFO:tensorflow:Done calling model_fn.\n",
      "INFO:tensorflow:Graph was finalized.\n",
      "WARNING:tensorflow:From c:\\python\\python37\\lib\\site-packages\\tensorflow\\python\\training\\saver.py:1276: checkpoint_exists (from tensorflow.python.training.checkpoint_management) is deprecated and will be removed in a future version.\n",
      "Instructions for updating:\n",
      "Use standard file APIs to check for files with this prefix.\n",
      "INFO:tensorflow:Restoring parameters from C:\\Users\\DARAQS~1\\AppData\\Local\\Temp\\tmperf3726n\\model.ckpt-4102\n",
      "INFO:tensorflow:Running local_init_op.\n",
      "INFO:tensorflow:Done running local_init_op.\n"
     ]
    }
   ],
   "source": [
    "result =list(clasfr.predict(input_fn=test_input_fn))"
   ]
  },
  {
   "cell_type": "code",
   "execution_count": 34,
   "metadata": {},
   "outputs": [],
   "source": [
    "y_pred = []\n",
    "for each in result:\n",
    "    y_pred.append(each['class_ids'][0])"
   ]
  },
  {
   "cell_type": "code",
   "execution_count": 35,
   "metadata": {},
   "outputs": [
    {
     "name": "stdout",
     "output_type": "stream",
     "text": [
      "[[13  0  0]\n",
      " [ 0 20  0]\n",
      " [ 0  0 12]]\n",
      "1.0\n"
     ]
    }
   ],
   "source": [
    "from sklearn.metrics import confusion_matrix,accuracy_score\n",
    "print(confusion_matrix(y_test, y_pred))\n",
    "print(accuracy_score(y_test,y_pred))\n"
   ]
  },
  {
   "cell_type": "code",
   "execution_count": 36,
   "metadata": {},
   "outputs": [],
   "source": [
    "cols_n = ['PetalLengthCm', 'SepalWidthCm']\n",
    "X_train_n = X_train[cols_n]\n",
    "X_test_n = X_test[cols_n]"
   ]
  },
  {
   "cell_type": "code",
   "execution_count": 37,
   "metadata": {},
   "outputs": [
    {
     "name": "stdout",
     "output_type": "stream",
     "text": [
      "INFO:tensorflow:Using default config.\n",
      "WARNING:tensorflow:Using temporary folder as model directory: C:\\Users\\DARAQS~1\\AppData\\Local\\Temp\\tmp2ks_95k6\n",
      "INFO:tensorflow:Using config: {'_model_dir': 'C:\\\\Users\\\\DARAQS~1\\\\AppData\\\\Local\\\\Temp\\\\tmp2ks_95k6', '_tf_random_seed': None, '_save_summary_steps': 100, '_save_checkpoints_steps': None, '_save_checkpoints_secs': 600, '_session_config': allow_soft_placement: true\n",
      "graph_options {\n",
      "  rewrite_options {\n",
      "    meta_optimizer_iterations: ONE\n",
      "  }\n",
      "}\n",
      ", '_keep_checkpoint_max': 5, '_keep_checkpoint_every_n_hours': 10000, '_log_step_count_steps': 100, '_train_distribute': None, '_device_fn': None, '_protocol': None, '_eval_distribute': None, '_experimental_distribute': None, '_experimental_max_worker_delay_secs': None, '_service': None, '_cluster_spec': <tensorflow.python.training.server_lib.ClusterSpec object at 0x0000020FCA57A390>, '_task_type': 'worker', '_task_id': 0, '_global_id_in_cluster': 0, '_master': '', '_evaluation_master': '', '_is_chief': True, '_num_ps_replicas': 0, '_num_worker_replicas': 1}\n"
     ]
    }
   ],
   "source": [
    "clasfr = tf.estimator.LinearClassifier([PetalLengthCm,SepalWidthCm] , n_classes=3)"
   ]
  },
  {
   "cell_type": "code",
   "execution_count": 38,
   "metadata": {},
   "outputs": [],
   "source": [
    "train_input_fn = tf.estimator.inputs.pandas_input_fn(X_train_n, y=y_train, num_epochs=5000, shuffle=True)"
   ]
  },
  {
   "cell_type": "code",
   "execution_count": 39,
   "metadata": {},
   "outputs": [
    {
     "name": "stdout",
     "output_type": "stream",
     "text": [
      "INFO:tensorflow:Calling model_fn.\n",
      "INFO:tensorflow:Done calling model_fn.\n",
      "INFO:tensorflow:Create CheckpointSaverHook.\n",
      "INFO:tensorflow:Graph was finalized.\n",
      "INFO:tensorflow:Running local_init_op.\n",
      "INFO:tensorflow:Done running local_init_op.\n",
      "INFO:tensorflow:Saving checkpoints for 0 into C:\\Users\\DARAQS~1\\AppData\\Local\\Temp\\tmp2ks_95k6\\model.ckpt.\n",
      "INFO:tensorflow:loss = 140.62234, step = 1\n",
      "INFO:tensorflow:global_step/sec: 346.214\n",
      "INFO:tensorflow:loss = 39.077717, step = 101 (0.296 sec)\n",
      "INFO:tensorflow:global_step/sec: 290.024\n",
      "INFO:tensorflow:loss = 30.513103, step = 201 (0.343 sec)\n",
      "INFO:tensorflow:global_step/sec: 307.869\n",
      "INFO:tensorflow:loss = 30.997879, step = 301 (0.323 sec)\n",
      "INFO:tensorflow:global_step/sec: 296.025\n",
      "INFO:tensorflow:loss = 24.486856, step = 401 (0.340 sec)\n",
      "INFO:tensorflow:global_step/sec: 259.89\n",
      "INFO:tensorflow:loss = 24.300869, step = 501 (0.383 sec)\n",
      "INFO:tensorflow:global_step/sec: 386.32\n",
      "INFO:tensorflow:loss = 23.804102, step = 601 (0.258 sec)\n",
      "INFO:tensorflow:global_step/sec: 287.522\n",
      "INFO:tensorflow:loss = 25.289524, step = 701 (0.351 sec)\n",
      "INFO:tensorflow:global_step/sec: 289.183\n",
      "INFO:tensorflow:loss = 24.204676, step = 801 (0.344 sec)\n",
      "INFO:tensorflow:global_step/sec: 330.221\n",
      "INFO:tensorflow:loss = 18.896286, step = 901 (0.308 sec)\n",
      "INFO:tensorflow:global_step/sec: 406.734\n",
      "INFO:tensorflow:loss = 19.038586, step = 1001 (0.241 sec)\n",
      "INFO:tensorflow:global_step/sec: 242.27\n",
      "INFO:tensorflow:loss = 26.537958, step = 1101 (0.413 sec)\n",
      "INFO:tensorflow:global_step/sec: 294.287\n",
      "INFO:tensorflow:loss = 22.69696, step = 1201 (0.339 sec)\n",
      "INFO:tensorflow:global_step/sec: 322.764\n",
      "INFO:tensorflow:loss = 19.480219, step = 1301 (0.316 sec)\n",
      "INFO:tensorflow:global_step/sec: 288.349\n",
      "INFO:tensorflow:loss = 18.387707, step = 1401 (0.347 sec)\n",
      "INFO:tensorflow:global_step/sec: 422.184\n",
      "INFO:tensorflow:loss = 22.5024, step = 1501 (0.232 sec)\n",
      "WARNING:tensorflow:It seems that global step (tf.train.get_global_step) has not been increased. Current value (could be stable): 1570 vs previous value: 1570. You could increase the global step by passing tf.train.get_global_step() to Optimizer.apply_gradients or Optimizer.minimize.\n",
      "INFO:tensorflow:global_step/sec: 285.876\n",
      "INFO:tensorflow:loss = 20.376776, step = 1601 (0.349 sec)\n",
      "INFO:tensorflow:global_step/sec: 315.639\n",
      "INFO:tensorflow:loss = 19.433899, step = 1701 (0.318 sec)\n",
      "INFO:tensorflow:global_step/sec: 288.349\n",
      "INFO:tensorflow:loss = 20.70801, step = 1801 (0.347 sec)\n",
      "INFO:tensorflow:global_step/sec: 351.077\n",
      "INFO:tensorflow:loss = 25.277584, step = 1901 (0.291 sec)\n",
      "INFO:tensorflow:global_step/sec: 311.705\n",
      "INFO:tensorflow:loss = 15.318992, step = 2001 (0.318 sec)\n",
      "INFO:tensorflow:global_step/sec: 314.646\n",
      "INFO:tensorflow:loss = 14.84425, step = 2101 (0.317 sec)\n",
      "INFO:tensorflow:global_step/sec: 326.984\n",
      "INFO:tensorflow:loss = 19.471954, step = 2201 (0.306 sec)\n",
      "INFO:tensorflow:global_step/sec: 386.32\n",
      "INFO:tensorflow:loss = 17.903389, step = 2301 (0.258 sec)\n",
      "INFO:tensorflow:global_step/sec: 252.67\n",
      "INFO:tensorflow:loss = 16.213802, step = 2401 (0.395 sec)\n",
      "INFO:tensorflow:global_step/sec: 283.446\n",
      "INFO:tensorflow:loss = 17.901432, step = 2501 (0.353 sec)\n",
      "INFO:tensorflow:global_step/sec: 370.585\n",
      "INFO:tensorflow:loss = 17.930328, step = 2601 (0.276 sec)\n",
      "INFO:tensorflow:global_step/sec: 438.848\n",
      "INFO:tensorflow:loss = 14.38053, step = 2701 (0.224 sec)\n",
      "INFO:tensorflow:global_step/sec: 471.966\n",
      "INFO:tensorflow:loss = 19.402107, step = 2801 (0.216 sec)\n",
      "INFO:tensorflow:global_step/sec: 321.727\n",
      "INFO:tensorflow:loss = 15.334364, step = 2901 (0.305 sec)\n",
      "INFO:tensorflow:global_step/sec: 296.028\n",
      "INFO:tensorflow:loss = 16.913847, step = 3001 (0.342 sec)\n",
      "INFO:tensorflow:global_step/sec: 321.728\n",
      "INFO:tensorflow:loss = 17.068523, step = 3101 (0.306 sec)\n",
      "INFO:tensorflow:global_step/sec: 408.393\n",
      "INFO:tensorflow:loss = 19.98428, step = 3201 (0.249 sec)\n",
      "INFO:tensorflow:global_step/sec: 280.273\n",
      "INFO:tensorflow:loss = 19.025478, step = 3301 (0.356 sec)\n",
      "INFO:tensorflow:global_step/sec: 292.565\n",
      "INFO:tensorflow:loss = 18.864532, step = 3401 (0.342 sec)\n",
      "INFO:tensorflow:global_step/sec: 306.925\n",
      "INFO:tensorflow:loss = 17.644999, step = 3501 (0.323 sec)\n",
      "INFO:tensorflow:global_step/sec: 361.215\n",
      "INFO:tensorflow:loss = 17.72203, step = 3601 (0.278 sec)\n",
      "INFO:tensorflow:global_step/sec: 342.662\n",
      "INFO:tensorflow:loss = 14.544109, step = 3701 (0.291 sec)\n",
      "INFO:tensorflow:global_step/sec: 377.574\n",
      "INFO:tensorflow:loss = 17.767334, step = 3801 (0.271 sec)\n",
      "INFO:tensorflow:global_step/sec: 284.253\n",
      "INFO:tensorflow:loss = 13.768547, step = 3901 (0.349 sec)\n",
      "INFO:tensorflow:global_step/sec: 329.136\n",
      "INFO:tensorflow:loss = 19.803028, step = 4001 (0.303 sec)\n",
      "INFO:tensorflow:global_step/sec: 319.671\n",
      "INFO:tensorflow:loss = 21.046686, step = 4101 (0.311 sec)\n",
      "INFO:tensorflow:Saving checkpoints for 4102 into C:\\Users\\DARAQS~1\\AppData\\Local\\Temp\\tmp2ks_95k6\\model.ckpt.\n",
      "INFO:tensorflow:Loss for final step: 11.184207.\n"
     ]
    },
    {
     "data": {
      "text/plain": [
       "<tensorflow_estimator.python.estimator.canned.linear.LinearClassifier at 0x20fca57a048>"
      ]
     },
     "execution_count": 39,
     "metadata": {},
     "output_type": "execute_result"
    }
   ],
   "source": [
    "clasfr.train(input_fn=train_input_fn)"
   ]
  },
  {
   "cell_type": "code",
   "execution_count": 40,
   "metadata": {},
   "outputs": [],
   "source": [
    "eval_input_fn = tf.estimator.inputs.pandas_input_fn(x=X_test_n, y=y_test, num_epochs=1, shuffle=False)"
   ]
  },
  {
   "cell_type": "code",
   "execution_count": 41,
   "metadata": {},
   "outputs": [
    {
     "name": "stdout",
     "output_type": "stream",
     "text": [
      "INFO:tensorflow:Calling model_fn.\n",
      "INFO:tensorflow:Done calling model_fn.\n",
      "INFO:tensorflow:Starting evaluation at 2020-08-29T09:41:12Z\n",
      "INFO:tensorflow:Graph was finalized.\n",
      "INFO:tensorflow:Restoring parameters from C:\\Users\\DARAQS~1\\AppData\\Local\\Temp\\tmp2ks_95k6\\model.ckpt-4102\n",
      "INFO:tensorflow:Running local_init_op.\n",
      "INFO:tensorflow:Done running local_init_op.\n",
      "INFO:tensorflow:Finished evaluation at 2020-08-29-09:41:12\n",
      "INFO:tensorflow:Saving dict for global step 4102: accuracy = 0.95555556, average_loss = 0.11730727, global_step = 4102, loss = 5.278827\n",
      "INFO:tensorflow:Saving 'checkpoint_path' summary for global step 4102: C:\\Users\\DARAQS~1\\AppData\\Local\\Temp\\tmp2ks_95k6\\model.ckpt-4102\n"
     ]
    },
    {
     "data": {
      "text/plain": [
       "{'accuracy': 0.95555556,\n",
       " 'average_loss': 0.11730727,\n",
       " 'loss': 5.278827,\n",
       " 'global_step': 4102}"
      ]
     },
     "execution_count": 41,
     "metadata": {},
     "output_type": "execute_result"
    }
   ],
   "source": [
    "clasfr.evaluate(input_fn=eval_input_fn)"
   ]
  },
  {
   "cell_type": "code",
   "execution_count": null,
   "metadata": {},
   "outputs": [],
   "source": []
  }
 ],
 "metadata": {
  "kernelspec": {
   "display_name": "Python 3",
   "language": "python",
   "name": "python3"
  },
  "language_info": {
   "codemirror_mode": {
    "name": "ipython",
    "version": 3
   },
   "file_extension": ".py",
   "mimetype": "text/x-python",
   "name": "python",
   "nbconvert_exporter": "python",
   "pygments_lexer": "ipython3",
   "version": "3.7.3"
  }
 },
 "nbformat": 4,
 "nbformat_minor": 4
}
