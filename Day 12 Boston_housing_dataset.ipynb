{
 "cells": [
  {
   "cell_type": "code",
   "execution_count": 2,
   "metadata": {},
   "outputs": [],
   "source": [
    "from keras.datasets import boston_housing\n",
    "(X_train, Y_train), (X_test,Y_test) = boston_housing.load_data()"
   ]
  },
  {
   "cell_type": "code",
   "execution_count": 4,
   "metadata": {},
   "outputs": [
    {
     "name": "stdout",
     "output_type": "stream",
     "text": [
      "[  1.23247   0.        8.14      0.        0.538     6.142    91.7\n",
      "   3.9769    4.      307.       21.      396.9      18.72   ]\n"
     ]
    }
   ],
   "source": [
    "print(X_train[0])"
   ]
  },
  {
   "cell_type": "code",
   "execution_count": 5,
   "metadata": {},
   "outputs": [
    {
     "data": {
      "text/plain": [
       "15.2"
      ]
     },
     "execution_count": 5,
     "metadata": {},
     "output_type": "execute_result"
    }
   ],
   "source": [
    "Y_train[0]"
   ]
  },
  {
   "cell_type": "code",
   "execution_count": 6,
   "metadata": {},
   "outputs": [
    {
     "name": "stdout",
     "output_type": "stream",
     "text": [
      "[-0.27224633 -0.48361547 -0.43576161 -0.25683275 -0.1652266  -0.1764426\n",
      "  0.81306188  0.1166983  -0.62624905 -0.59517003  1.14850044  0.44807713\n",
      "  0.8252202 ]\n"
     ]
    }
   ],
   "source": [
    "from sklearn.preprocessing import StandardScaler\n",
    "scaler = StandardScaler()\n",
    "scaler.fit(X_train)\n",
    "X_train_scaled = scaler.transform(X_train)\n",
    "X_test_scaled = scaler.transform(X_test)\n",
    "\n",
    "print(X_train_scaled[0])"
   ]
  },
  {
   "cell_type": "code",
   "execution_count": 7,
   "metadata": {},
   "outputs": [],
   "source": [
    "from keras import models,layers"
   ]
  },
  {
   "cell_type": "code",
   "execution_count": 8,
   "metadata": {},
   "outputs": [],
   "source": [
    "model = models.Sequential()"
   ]
  },
  {
   "cell_type": "code",
   "execution_count": 9,
   "metadata": {},
   "outputs": [],
   "source": [
    "model.add(layers.Dense(8,activation = 'relu',input_shape=[X_train.shape[1]]))\n",
    "model.add(layers.Dense(16,activation = 'relu'))"
   ]
  },
  {
   "cell_type": "code",
   "execution_count": 10,
   "metadata": {},
   "outputs": [],
   "source": [
    "model.add(layers.Dense(1))"
   ]
  },
  {
   "cell_type": "code",
   "execution_count": 13,
   "metadata": {},
   "outputs": [],
   "source": [
    "model.compile(optimizer = 'rmsprop', loss = 'mse', metrics = ['mae'])"
   ]
  },
  {
   "cell_type": "code",
   "execution_count": 14,
   "metadata": {},
   "outputs": [
    {
     "name": "stdout",
     "output_type": "stream",
     "text": [
      "Train on 323 samples, validate on 81 samples\n",
      "Epoch 1/100\n",
      "323/323 [==============================] - 2s 6ms/step - loss: 550.3947 - mae: 21.6974 - val_loss: 609.5242 - val_mae: 23.0477\n",
      "Epoch 2/100\n",
      "323/323 [==============================] - 0s 235us/step - loss: 537.2488 - mae: 21.4284 - val_loss: 595.1414 - val_mae: 22.7831\n",
      "Epoch 3/100\n",
      "323/323 [==============================] - 0s 161us/step - loss: 524.1377 - mae: 21.1676 - val_loss: 580.0367 - val_mae: 22.5030\n",
      "Epoch 4/100\n",
      "323/323 [==============================] - 0s 149us/step - loss: 509.9864 - mae: 20.8889 - val_loss: 563.8323 - val_mae: 22.2009\n",
      "Epoch 5/100\n",
      "323/323 [==============================] - 0s 136us/step - loss: 495.3693 - mae: 20.5951 - val_loss: 547.4617 - val_mae: 21.8850\n",
      "Epoch 6/100\n",
      "323/323 [==============================] - 0s 161us/step - loss: 479.9096 - mae: 20.2828 - val_loss: 531.6173 - val_mae: 21.5723\n",
      "Epoch 7/100\n",
      "323/323 [==============================] - 0s 124us/step - loss: 464.2699 - mae: 19.9539 - val_loss: 513.2825 - val_mae: 21.2020\n",
      "Epoch 8/100\n",
      "323/323 [==============================] - 0s 149us/step - loss: 446.6600 - mae: 19.5851 - val_loss: 492.6180 - val_mae: 20.7794\n",
      "Epoch 9/100\n",
      "323/323 [==============================] - 0s 136us/step - loss: 427.6258 - mae: 19.1726 - val_loss: 473.2685 - val_mae: 20.3662\n",
      "Epoch 10/100\n",
      "323/323 [==============================] - 0s 87us/step - loss: 409.2589 - mae: 18.7529 - val_loss: 451.1271 - val_mae: 19.8802\n",
      "Epoch 11/100\n",
      "323/323 [==============================] - 0s 87us/step - loss: 388.6769 - mae: 18.2749 - val_loss: 428.8845 - val_mae: 19.3705\n",
      "Epoch 12/100\n",
      "323/323 [==============================] - 0s 74us/step - loss: 367.4643 - mae: 17.7560 - val_loss: 403.4387 - val_mae: 18.7623\n",
      "Epoch 13/100\n",
      "323/323 [==============================] - 0s 87us/step - loss: 345.0083 - mae: 17.1919 - val_loss: 382.1172 - val_mae: 18.2286\n",
      "Epoch 14/100\n",
      "323/323 [==============================] - 0s 87us/step - loss: 324.5566 - mae: 16.6440 - val_loss: 357.7799 - val_mae: 17.5864\n",
      "Epoch 15/100\n",
      "323/323 [==============================] - 0s 87us/step - loss: 302.0834 - mae: 16.0041 - val_loss: 333.3687 - val_mae: 16.9051\n",
      "Epoch 16/100\n",
      "323/323 [==============================] - 0s 111us/step - loss: 279.4759 - mae: 15.3418 - val_loss: 309.8017 - val_mae: 16.2074\n",
      "Epoch 17/100\n",
      "323/323 [==============================] - 0s 62us/step - loss: 257.9159 - mae: 14.6411 - val_loss: 284.5485 - val_mae: 15.4026\n",
      "Epoch 18/100\n",
      "323/323 [==============================] - 0s 124us/step - loss: 235.8317 - mae: 13.8625 - val_loss: 262.3384 - val_mae: 14.6334\n",
      "Epoch 19/100\n",
      "323/323 [==============================] - 0s 74us/step - loss: 215.6313 - mae: 13.1121 - val_loss: 240.4651 - val_mae: 13.8113\n",
      "Epoch 20/100\n",
      "323/323 [==============================] - 0s 62us/step - loss: 196.1936 - mae: 12.3223 - val_loss: 218.1012 - val_mae: 12.9116\n",
      "Epoch 21/100\n",
      "323/323 [==============================] - 0s 62us/step - loss: 177.3247 - mae: 11.5085 - val_loss: 199.4973 - val_mae: 12.1942\n",
      "Epoch 22/100\n",
      "323/323 [==============================] - 0s 62us/step - loss: 161.1452 - mae: 10.8155 - val_loss: 181.2654 - val_mae: 11.4770\n",
      "Epoch 23/100\n",
      "323/323 [==============================] - 0s 62us/step - loss: 145.7321 - mae: 10.1277 - val_loss: 164.0369 - val_mae: 10.7628\n",
      "Epoch 24/100\n",
      "323/323 [==============================] - 0s 74us/step - loss: 131.6224 - mae: 9.4712 - val_loss: 149.1677 - val_mae: 10.1334\n",
      "Epoch 25/100\n",
      "323/323 [==============================] - 0s 50us/step - loss: 119.4073 - mae: 8.8670 - val_loss: 135.0791 - val_mae: 9.5309\n",
      "Epoch 26/100\n",
      "323/323 [==============================] - 0s 50us/step - loss: 108.4943 - mae: 8.3093 - val_loss: 124.8191 - val_mae: 9.0941\n",
      "Epoch 27/100\n",
      "323/323 [==============================] - 0s 50us/step - loss: 100.2736 - mae: 7.8663 - val_loss: 114.7868 - val_mae: 8.6436\n",
      "Epoch 28/100\n",
      "323/323 [==============================] - 0s 87us/step - loss: 92.3820 - mae: 7.4377 - val_loss: 104.8147 - val_mae: 8.1547\n",
      "Epoch 29/100\n",
      "323/323 [==============================] - 0s 136us/step - loss: 85.0228 - mae: 7.0127 - val_loss: 96.4092 - val_mae: 7.7149\n",
      "Epoch 30/100\n",
      "323/323 [==============================] - 0s 99us/step - loss: 78.6832 - mae: 6.6642 - val_loss: 89.8455 - val_mae: 7.3467\n",
      "Epoch 31/100\n",
      "323/323 [==============================] - 0s 99us/step - loss: 73.5190 - mae: 6.3879 - val_loss: 83.5243 - val_mae: 7.0062\n",
      "Epoch 32/100\n",
      "323/323 [==============================] - 0s 87us/step - loss: 68.6310 - mae: 6.1110 - val_loss: 76.6253 - val_mae: 6.6660\n",
      "Epoch 33/100\n",
      "323/323 [==============================] - 0s 87us/step - loss: 63.7520 - mae: 5.8623 - val_loss: 71.6736 - val_mae: 6.3875\n",
      "Epoch 34/100\n",
      "323/323 [==============================] - 0s 74us/step - loss: 59.9696 - mae: 5.6110 - val_loss: 66.7458 - val_mae: 6.1277\n",
      "Epoch 35/100\n",
      "323/323 [==============================] - 0s 62us/step - loss: 56.3379 - mae: 5.4147 - val_loss: 62.7141 - val_mae: 5.9048\n",
      "Epoch 36/100\n",
      "323/323 [==============================] - 0s 74us/step - loss: 53.2219 - mae: 5.2075 - val_loss: 58.4670 - val_mae: 5.6695\n",
      "Epoch 37/100\n",
      "323/323 [==============================] - 0s 87us/step - loss: 50.1980 - mae: 5.0123 - val_loss: 55.0540 - val_mae: 5.4901\n",
      "Epoch 38/100\n",
      "323/323 [==============================] - 0s 62us/step - loss: 47.7924 - mae: 4.8454 - val_loss: 51.7871 - val_mae: 5.3039\n",
      "Epoch 39/100\n",
      "323/323 [==============================] - 0s 49us/step - loss: 45.4965 - mae: 4.7395 - val_loss: 49.5904 - val_mae: 5.1802\n",
      "Epoch 40/100\n",
      "323/323 [==============================] - 0s 74us/step - loss: 43.6236 - mae: 4.5958 - val_loss: 46.8381 - val_mae: 5.0121\n",
      "Epoch 41/100\n",
      "323/323 [==============================] - 0s 50us/step - loss: 41.6778 - mae: 4.4531 - val_loss: 43.9882 - val_mae: 4.8783\n",
      "Epoch 42/100\n",
      "323/323 [==============================] - 0s 87us/step - loss: 39.9928 - mae: 4.3343 - val_loss: 42.1770 - val_mae: 4.7514\n",
      "Epoch 43/100\n",
      "323/323 [==============================] - 0s 99us/step - loss: 38.7708 - mae: 4.2256 - val_loss: 40.5312 - val_mae: 4.6716\n",
      "Epoch 44/100\n",
      "323/323 [==============================] - 0s 87us/step - loss: 37.5565 - mae: 4.1500 - val_loss: 39.1206 - val_mae: 4.5403\n",
      "Epoch 45/100\n",
      "323/323 [==============================] - 0s 87us/step - loss: 36.5245 - mae: 4.0645 - val_loss: 38.0359 - val_mae: 4.4327\n",
      "Epoch 46/100\n",
      "323/323 [==============================] - 0s 87us/step - loss: 35.5939 - mae: 3.9856 - val_loss: 36.6208 - val_mae: 4.3582\n",
      "Epoch 47/100\n",
      "323/323 [==============================] - 0s 74us/step - loss: 34.6831 - mae: 3.8974 - val_loss: 35.5315 - val_mae: 4.2989\n",
      "Epoch 48/100\n",
      "323/323 [==============================] - 0s 74us/step - loss: 33.7998 - mae: 3.8490 - val_loss: 34.9234 - val_mae: 4.2598\n",
      "Epoch 49/100\n",
      "323/323 [==============================] - 0s 87us/step - loss: 33.0072 - mae: 3.7779 - val_loss: 33.6393 - val_mae: 4.1379\n",
      "Epoch 50/100\n",
      "323/323 [==============================] - 0s 74us/step - loss: 32.3720 - mae: 3.7589 - val_loss: 32.6751 - val_mae: 4.0626\n",
      "Epoch 51/100\n",
      "323/323 [==============================] - 0s 62us/step - loss: 31.6304 - mae: 3.6881 - val_loss: 31.9252 - val_mae: 3.9908\n",
      "Epoch 52/100\n",
      "323/323 [==============================] - 0s 50us/step - loss: 31.0183 - mae: 3.6302 - val_loss: 30.8703 - val_mae: 3.9116\n",
      "Epoch 53/100\n",
      "323/323 [==============================] - 0s 74us/step - loss: 30.4087 - mae: 3.5951 - val_loss: 30.2632 - val_mae: 3.8891\n",
      "Epoch 54/100\n",
      "323/323 [==============================] - 0s 99us/step - loss: 29.9012 - mae: 3.5649 - val_loss: 29.3360 - val_mae: 3.8173\n",
      "Epoch 55/100\n",
      "323/323 [==============================] - 0s 99us/step - loss: 29.4656 - mae: 3.5617 - val_loss: 28.9852 - val_mae: 3.8106\n",
      "Epoch 56/100\n",
      "323/323 [==============================] - 0s 124us/step - loss: 29.0561 - mae: 3.5234 - val_loss: 28.9903 - val_mae: 3.8229\n",
      "Epoch 57/100\n",
      "323/323 [==============================] - 0s 99us/step - loss: 28.6572 - mae: 3.5232 - val_loss: 28.5028 - val_mae: 3.7678\n",
      "Epoch 58/100\n",
      "323/323 [==============================] - 0s 111us/step - loss: 28.1477 - mae: 3.4496 - val_loss: 28.4557 - val_mae: 3.7593\n",
      "Epoch 59/100\n",
      "323/323 [==============================] - 0s 111us/step - loss: 27.8510 - mae: 3.4127 - val_loss: 27.8164 - val_mae: 3.7142\n"
     ]
    },
    {
     "name": "stdout",
     "output_type": "stream",
     "text": [
      "Epoch 60/100\n",
      "323/323 [==============================] - 0s 123us/step - loss: 27.3812 - mae: 3.3916 - val_loss: 26.8651 - val_mae: 3.6307\n",
      "Epoch 61/100\n",
      "323/323 [==============================] - 0s 111us/step - loss: 27.0312 - mae: 3.3829 - val_loss: 26.0227 - val_mae: 3.5878\n",
      "Epoch 62/100\n",
      "323/323 [==============================] - 0s 87us/step - loss: 26.5863 - mae: 3.3777 - val_loss: 26.2082 - val_mae: 3.6085\n",
      "Epoch 63/100\n",
      "323/323 [==============================] - 0s 62us/step - loss: 26.2047 - mae: 3.3518 - val_loss: 25.8744 - val_mae: 3.5765\n",
      "Epoch 64/100\n",
      "323/323 [==============================] - 0s 74us/step - loss: 25.9294 - mae: 3.3160 - val_loss: 25.2710 - val_mae: 3.5309\n",
      "Epoch 65/100\n",
      "323/323 [==============================] - 0s 62us/step - loss: 25.5951 - mae: 3.2845 - val_loss: 25.0462 - val_mae: 3.5196\n",
      "Epoch 66/100\n",
      "323/323 [==============================] - 0s 62us/step - loss: 25.2510 - mae: 3.2737 - val_loss: 24.6882 - val_mae: 3.4987\n",
      "Epoch 67/100\n",
      "323/323 [==============================] - 0s 62us/step - loss: 24.9624 - mae: 3.2784 - val_loss: 24.4814 - val_mae: 3.4670\n",
      "Epoch 68/100\n",
      "323/323 [==============================] - 0s 62us/step - loss: 24.6555 - mae: 3.2259 - val_loss: 24.0430 - val_mae: 3.4323\n",
      "Epoch 69/100\n",
      "323/323 [==============================] - 0s 62us/step - loss: 24.3421 - mae: 3.1997 - val_loss: 23.4731 - val_mae: 3.3847\n",
      "Epoch 70/100\n",
      "323/323 [==============================] - 0s 62us/step - loss: 24.0753 - mae: 3.1883 - val_loss: 22.7823 - val_mae: 3.3326\n",
      "Epoch 71/100\n",
      "323/323 [==============================] - 0s 74us/step - loss: 23.7155 - mae: 3.1885 - val_loss: 22.7193 - val_mae: 3.3289\n",
      "Epoch 72/100\n",
      "323/323 [==============================] - 0s 74us/step - loss: 23.4748 - mae: 3.1525 - val_loss: 22.3809 - val_mae: 3.3089\n",
      "Epoch 73/100\n",
      "323/323 [==============================] - 0s 74us/step - loss: 23.0929 - mae: 3.1213 - val_loss: 21.5677 - val_mae: 3.2393\n",
      "Epoch 74/100\n",
      "323/323 [==============================] - 0s 74us/step - loss: 22.8413 - mae: 3.1241 - val_loss: 21.1400 - val_mae: 3.2193\n",
      "Epoch 75/100\n",
      "323/323 [==============================] - 0s 74us/step - loss: 22.5438 - mae: 3.1332 - val_loss: 21.2603 - val_mae: 3.2196\n",
      "Epoch 76/100\n",
      "323/323 [==============================] - 0s 87us/step - loss: 22.2601 - mae: 3.0840 - val_loss: 21.1448 - val_mae: 3.2175\n",
      "Epoch 77/100\n",
      "323/323 [==============================] - 0s 74us/step - loss: 21.9977 - mae: 3.0685 - val_loss: 20.4763 - val_mae: 3.1686\n",
      "Epoch 78/100\n",
      "323/323 [==============================] - 0s 99us/step - loss: 21.7700 - mae: 3.0673 - val_loss: 20.4389 - val_mae: 3.1773\n",
      "Epoch 79/100\n",
      "323/323 [==============================] - 0s 74us/step - loss: 21.5101 - mae: 3.0648 - val_loss: 19.9686 - val_mae: 3.1524\n",
      "Epoch 80/100\n",
      "323/323 [==============================] - 0s 87us/step - loss: 21.2626 - mae: 3.0759 - val_loss: 19.7019 - val_mae: 3.1095\n",
      "Epoch 81/100\n",
      "323/323 [==============================] - 0s 63us/step - loss: 21.0365 - mae: 3.0301 - val_loss: 19.3416 - val_mae: 3.0678\n",
      "Epoch 82/100\n",
      "323/323 [==============================] - 0s 62us/step - loss: 20.8942 - mae: 3.0009 - val_loss: 19.1315 - val_mae: 3.0767\n",
      "Epoch 83/100\n",
      "323/323 [==============================] - 0s 99us/step - loss: 20.5905 - mae: 3.0092 - val_loss: 18.9488 - val_mae: 3.0530\n",
      "Epoch 84/100\n",
      "323/323 [==============================] - 0s 74us/step - loss: 20.4624 - mae: 2.9776 - val_loss: 18.4667 - val_mae: 3.0488\n",
      "Epoch 85/100\n",
      "323/323 [==============================] - 0s 74us/step - loss: 20.0944 - mae: 2.9782 - val_loss: 18.7888 - val_mae: 3.0720\n",
      "Epoch 86/100\n",
      "323/323 [==============================] - 0s 62us/step - loss: 20.0469 - mae: 2.9582 - val_loss: 18.4380 - val_mae: 3.0429\n",
      "Epoch 87/100\n",
      "323/323 [==============================] - 0s 74us/step - loss: 19.7650 - mae: 2.9373 - val_loss: 18.2601 - val_mae: 3.0165\n",
      "Epoch 88/100\n",
      "323/323 [==============================] - 0s 62us/step - loss: 19.5518 - mae: 2.9189 - val_loss: 17.7409 - val_mae: 2.9723\n",
      "Epoch 89/100\n",
      "323/323 [==============================] - 0s 62us/step - loss: 19.3565 - mae: 2.8934 - val_loss: 17.3594 - val_mae: 2.9371\n",
      "Epoch 90/100\n",
      "323/323 [==============================] - 0s 74us/step - loss: 19.1680 - mae: 2.8822 - val_loss: 17.1807 - val_mae: 2.9206\n",
      "Epoch 91/100\n",
      "323/323 [==============================] - 0s 62us/step - loss: 18.8660 - mae: 2.8599 - val_loss: 17.3263 - val_mae: 2.9726\n",
      "Epoch 92/100\n",
      "323/323 [==============================] - 0s 62us/step - loss: 18.5858 - mae: 2.8559 - val_loss: 16.8912 - val_mae: 2.9306\n",
      "Epoch 93/100\n",
      "323/323 [==============================] - 0s 74us/step - loss: 18.4191 - mae: 2.8467 - val_loss: 16.3386 - val_mae: 2.8687\n",
      "Epoch 94/100\n",
      "323/323 [==============================] - 0s 50us/step - loss: 18.0611 - mae: 2.8228 - val_loss: 16.2594 - val_mae: 2.8519\n",
      "Epoch 95/100\n",
      "323/323 [==============================] - 0s 75us/step - loss: 17.9090 - mae: 2.7898 - val_loss: 16.0969 - val_mae: 2.8462\n",
      "Epoch 96/100\n",
      "323/323 [==============================] - 0s 50us/step - loss: 17.6049 - mae: 2.7847 - val_loss: 15.7195 - val_mae: 2.8311\n",
      "Epoch 97/100\n",
      "323/323 [==============================] - 0s 87us/step - loss: 17.3759 - mae: 2.7668 - val_loss: 15.8781 - val_mae: 2.8837\n",
      "Epoch 98/100\n",
      "323/323 [==============================] - 0s 87us/step - loss: 17.1702 - mae: 2.7805 - val_loss: 15.3852 - val_mae: 2.7977\n",
      "Epoch 99/100\n",
      "323/323 [==============================] - 0s 74us/step - loss: 16.9548 - mae: 2.7576 - val_loss: 15.2821 - val_mae: 2.7952\n",
      "Epoch 100/100\n",
      "323/323 [==============================] - 0s 74us/step - loss: 16.7688 - mae: 2.7275 - val_loss: 15.2222 - val_mae: 2.7732\n"
     ]
    }
   ],
   "source": [
    "history = model.fit(X_train_scaled,Y_train,validation_split =0.2,epochs = 100)"
   ]
  },
  {
   "cell_type": "code",
   "execution_count": 15,
   "metadata": {},
   "outputs": [
    {
     "name": "stdout",
     "output_type": "stream",
     "text": [
      "102/102 [==============================] - 0s 39us/step\n"
     ]
    },
    {
     "data": {
      "text/plain": [
       "[19.277824102663526, 3.194754123687744]"
      ]
     },
     "execution_count": 15,
     "metadata": {},
     "output_type": "execute_result"
    }
   ],
   "source": [
    "model.evaluate(X_test_scaled,Y_test)"
   ]
  },
  {
   "cell_type": "code",
   "execution_count": 16,
   "metadata": {},
   "outputs": [
    {
     "name": "stdout",
     "output_type": "stream",
     "text": [
      "[[15.668211]\n",
      " [41.131775]]\n"
     ]
    }
   ],
   "source": [
    "to_predict = X_train_scaled[:2]\n",
    "predictions = model.predict(to_predict)\n",
    "print(predictions)"
   ]
  },
  {
   "cell_type": "code",
   "execution_count": 18,
   "metadata": {},
   "outputs": [
    {
     "name": "stdout",
     "output_type": "stream",
     "text": [
      "[15.2 42.3]\n"
     ]
    }
   ],
   "source": [
    "print(Y_train[:2])"
   ]
  },
  {
   "cell_type": "code",
   "execution_count": null,
   "metadata": {},
   "outputs": [],
   "source": []
  }
 ],
 "metadata": {
  "kernelspec": {
   "display_name": "Python 3",
   "language": "python",
   "name": "python3"
  },
  "language_info": {
   "codemirror_mode": {
    "name": "ipython",
    "version": 3
   },
   "file_extension": ".py",
   "mimetype": "text/x-python",
   "name": "python",
   "nbconvert_exporter": "python",
   "pygments_lexer": "ipython3",
   "version": "3.7.3"
  }
 },
 "nbformat": 4,
 "nbformat_minor": 4
}
